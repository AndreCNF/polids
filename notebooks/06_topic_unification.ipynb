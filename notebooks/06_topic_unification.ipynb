{
 "cells": [
  {
   "cell_type": "markdown",
   "id": "3a038bd6",
   "metadata": {},
   "source": [
    "# Political topic unification\n",
    "---\n",
    "Testing the merging of political topics into high-level, concise topics."
   ]
  },
  {
   "cell_type": "markdown",
   "id": "27f82055",
   "metadata": {},
   "source": [
    "## Setup"
   ]
  },
  {
   "cell_type": "markdown",
   "id": "f68012ac",
   "metadata": {},
   "source": [
    "### Import libraries"
   ]
  },
  {
   "cell_type": "code",
   "execution_count": null,
   "id": "56dbf819",
   "metadata": {},
   "outputs": [],
   "source": [
    "from pydantic import BaseModel, Field, field_validator\n",
    "from openai import OpenAI"
   ]
  },
  {
   "cell_type": "code",
   "execution_count": null,
   "id": "9dadd7d1",
   "metadata": {},
   "outputs": [],
   "source": [
    "from polids.config import settings"
   ]
  },
  {
   "cell_type": "markdown",
   "id": "e316f2c6",
   "metadata": {},
   "source": [
    "### Set parameters"
   ]
  },
  {
   "cell_type": "code",
   "execution_count": null,
   "id": "6539d528",
   "metadata": {},
   "outputs": [],
   "source": [
    "system_prompt = \"\"\"# Role\n",
    "You are a political data analyst specialized in categorizing policy areas into standardized, concise supercategories for downstream analysis.\n",
    "\n",
    "# Objective\n",
    "Process a list of political topics with frequency counts to:\n",
    "1. Generate concise, high-level policy categories (unified topics).\n",
    "2. Map each input topic to its corresponding unified category.\n",
    "3. Output the results as structured JSON following a defined schema.\n",
    "\n",
    "# Input Format\n",
    "A list where each line contains a topic and its frequency, separated by |. The list is pre-sorted in descending order by frequency.\n",
    "```markdown\n",
    "- Topic String 1 | Frequency 1\n",
    "- Topic String 2 | Frequency 2\n",
    "...\n",
    "- Topic String N | Frequency N\n",
    "```\n",
    "\n",
    "# Task\n",
    "1. **Parse Input:** Extract the topic string and frequency integer from each line of the input markdown list. The topic string alone will be used as the key in the output mapping.\n",
    "2. **Cluster Semantically:** Group input topics that share core concepts, address related issues, or belong to a clear broader policy domain. Use the descending frequency order as a strong signal for identifying core themes, but prioritize semantic coherence.\n",
    "3. **Define Unified Topics:** For each cluster, create a single, concise name for the unified topic.\n",
    "4. **Map Inputs:** Assign each input topic string to exactly one unified topic name.\n",
    "5. **Generate Output:** Format the results according to the specified JSON schema.\n",
    "\n",
    "# Guidelines\n",
    "- **Conciseness:** Unified topic names must be 1-5 words. (e.g., \"Economy\", \"Healthcare\", \"Climate Action\").\n",
    "- **Mutual Exclusivity:** Unified topics must be distinct and non-overlapping in scope. Each input topic must map to only one unified topic.\n",
    "- **Comprehensiveness:** All input topics must be mapped to a unified topic.\n",
    "- **Political Relevance:** Use standard political science or common policy terminology for unified topic names.\n",
    "- **Balance:** Aim for a reasonable number of unified topics (typically 5-12) – avoid over-granularity or excessive consolidation.\n",
    "\n",
    "# Example\n",
    "## Input\n",
    "- Environmental Protection | 20\n",
    "- Economic Growth Initiatives | 18\n",
    "- Immigration reform | 17\n",
    "- Climate Change Policies | 16\n",
    "- Healthcare for All | 15\n",
    "- Job creation programs | 14\n",
    "- Strengthen military | 13\n",
    "- Universal Healthcare Coverage | 12\n",
    "- Improve public schools | 11\n",
    "- Sustainable Economic Development | 10\n",
    "- Border security funding | 10\n",
    "- Renewable energy subsidies | 9\n",
    "- Lower prescription drug costs | 8\n",
    "- Reduce corporate tax rate | 7\n",
    "- Affordable higher education | 6\n",
    "- Combat Global Warming | 5\n",
    "- Foreign aid reform | 4\n",
    "##Output\n",
    "\n",
    "{\n",
    "  \"unified_topics\": [\n",
    "    \"Climate Action\",\n",
    "    \"Economy\",\n",
    "    \"Immigration & Border Security\",\n",
    "    \"Healthcare\",\n",
    "    \"Education\",\n",
    "    \"Defense & Foreign Policy\"\n",
    "  ],\n",
    "  \"topic_mapping\": {\n",
    "    \"Environmental Protection\": \"Climate Action\",\n",
    "    \"Economic Growth Initiatives\": \"Economy\",\n",
    "    \"Immigration reform\": \"Immigration\",\n",
    "    \"Climate Change Policies\": \"Climate Action\",\n",
    "    \"Healthcare for All\": \"Healthcare\",\n",
    "    \"Job creation programs\": \"Economy\",\n",
    "    \"Strengthen military\": \"Defense & Foreign Policy\",\n",
    "    \"Universal Healthcare Coverage\": \"Healthcare\",\n",
    "    \"Improve public schools\": \"Education\",\n",
    "    \"Sustainable Economic Development\": \"Economy\",\n",
    "    \"Border security funding\": \"Immigration\",\n",
    "    \"Renewable energy subsidies\": \"Climate Action\",\n",
    "    \"Lower prescription drug costs\": \"Healthcare\",\n",
    "    \"Reduce corporate tax rate\": \"Economy\",\n",
    "    \"Affordable higher education\": \"Education\",\n",
    "    \"Combat Global Warming\": \"Climate Action\",\n",
    "    \"Foreign aid reform\": \"Defense & Foreign Policy\"\n",
    "  }\n",
    "}\"\"\""
   ]
  },
  {
   "cell_type": "code",
   "execution_count": null,
   "id": "170cbe82",
   "metadata": {},
   "outputs": [],
   "source": [
    "max_retries = 5"
   ]
  },
  {
   "cell_type": "markdown",
   "id": "380113cc",
   "metadata": {},
   "source": [
    "## Load topics to merge\n",
    "We're going to use manually defined topics, so as to avoid dependencies on previous steps of the pipeline."
   ]
  },
  {
   "cell_type": "code",
   "execution_count": null,
   "id": "9ed47a11",
   "metadata": {},
   "outputs": [],
   "source": [
    "topics_to_unify = {\n",
    "    # Social Issues / Civil Rights\n",
    "    \"Protecting LGBTQ+ rights\": 18,\n",
    "    \"Ensuring voting access for all\": 25,\n",
    "    \"Criminal justice reform initiatives\": 22,\n",
    "    \"Addressing systemic racism\": 15,\n",
    "    \"Defending Second Amendment freedoms\": 28,\n",
    "    \"Common-sense gun safety laws\": 26,\n",
    "    \"Protecting freedom of religion\": 12,\n",
    "    \"Police funding and accountability\": 19,\n",
    "    \"Reproductive healthcare access\": 23,\n",
    "    # Technology & Infrastructure\n",
    "    \"Expanding rural broadband internet\": 16,\n",
    "    \"Investing in national infrastructure (roads, bridges)\": 30,\n",
    "    \"Cybersecurity for critical systems\": 14,\n",
    "    \"Regulating big tech companies\": 11,\n",
    "    \"Modernizing the power grid\": 17,\n",
    "    \"Funding for scientific research (NIH, NSF)\": 9,\n",
    "    # Government Reform & Ethics\n",
    "    \"Campaign finance reform\": 20,\n",
    "    \"Addressing political corruption\": 13,\n",
    "    \"Term limits for elected officials\": 8,\n",
    "    \"Protecting whistleblowers\": 6,\n",
    "    \"Strengthening ethics regulations\": 10,\n",
    "    # Economy & Labor (Different Focus)\n",
    "    \"Raising the federal minimum wage\": 24,\n",
    "    \"Supporting small business recovery\": 21,\n",
    "    \"Protecting workers' right to organize\": 18,\n",
    "    \"Addressing income inequality\": 20,\n",
    "    \"Investing in workforce development programs\": 15,\n",
    "    # Agriculture & Environment (Different Focus)\n",
    "    \"Supporting sustainable farming practices\": 7,\n",
    "    \"Ensuring food safety and security\": 11,\n",
    "    \"Protecting national parks and public lands\": 19,\n",
    "    \"Water resource management\": 14,\n",
    "    # Other\n",
    "    \"Addressing the opioid crisis\": 22,\n",
    "    \"Improving veterans' healthcare and benefits\": 27,\n",
    "    \"Affordable housing and homelessness\": 16,\n",
    "    \"Disaster preparedness and relief funding\": 10,\n",
    "}\n",
    "\n",
    "# Sort the topics by frequency in descending order\n",
    "sorted_topics = sorted(topics_to_unify.items(), key=lambda x: x[1], reverse=True)\n",
    "# Format the sorted topics into the required input format\n",
    "input_markdown = \"\\n\".join([f\"- {topic} | {freq}\" for topic, freq in sorted_topics])\n",
    "print(input_markdown)"
   ]
  },
  {
   "cell_type": "markdown",
   "id": "fe970012",
   "metadata": {},
   "source": [
    "## Define the output schema"
   ]
  },
  {
   "cell_type": "code",
   "execution_count": null,
   "id": "63cd37bd",
   "metadata": {},
   "outputs": [],
   "source": [
    "class UnifiedTopic(BaseModel):\n",
    "    \"\"\"\n",
    "    Represents a high-level policy category with its constituent original topics.\n",
    "    Ensures each unified topic contains at least two original topics.\n",
    "    \"\"\"\n",
    "\n",
    "    name: str = Field(\n",
    "        description=\"Concise name for the unified policy category (1-5 words)\",\n",
    "    )\n",
    "\n",
    "    original_topics: list[str] = Field(\n",
    "        description=\"List of original input topics mapped to this unified category\",\n",
    "    )\n",
    "\n",
    "\n",
    "class UnifiedTopicsOutput(BaseModel):\n",
    "    \"\"\"\n",
    "    Schema for political topic unification output with nested topic structure.\n",
    "    Ensures mutual exclusivity through explicit grouping in separate unified topics.\n",
    "    \"\"\"\n",
    "\n",
    "    unified_topics: list[UnifiedTopic] = Field(\n",
    "        description=\"List of high-level policy categories with their constituent original topics. \"\n",
    "        \"Each unified topic must contain at least two original topics, and all original \"\n",
    "        \"topics from input must be included across the list. Categories must be mutually exclusive.\",\n",
    "    )"
   ]
  },
  {
   "cell_type": "markdown",
   "id": "83b51150",
   "metadata": {},
   "source": [
    "## Test different LLMs"
   ]
  },
  {
   "cell_type": "code",
   "execution_count": null,
   "id": "f154a82f",
   "metadata": {},
   "outputs": [],
   "source": [
    "# Save the outputs of each method in a dictionary (key = method name)\n",
    "topics_unification_results = dict()"
   ]
  },
  {
   "cell_type": "markdown",
   "id": "e546428b",
   "metadata": {},
   "source": [
    "### Initialize the LLM client"
   ]
  },
  {
   "cell_type": "code",
   "execution_count": null,
   "id": "9378de62",
   "metadata": {},
   "outputs": [],
   "source": [
    "client = OpenAI(api_key=settings.openai_api_key)"
   ]
  },
  {
   "cell_type": "markdown",
   "id": "7494e588",
   "metadata": {},
   "source": [
    "### GPT 4.1 nano"
   ]
  },
  {
   "cell_type": "code",
   "execution_count": null,
   "id": "648ebc27",
   "metadata": {},
   "outputs": [],
   "source": [
    "llm_name = \"gpt-4.1-nano-2025-04-14\"\n",
    "completion = client.beta.chat.completions.parse(\n",
    "    model=llm_name,\n",
    "    messages=[\n",
    "        {\n",
    "            \"role\": \"system\",\n",
    "            \"content\": system_prompt,\n",
    "        },\n",
    "        {\n",
    "            \"role\": \"user\",\n",
    "            \"content\": input_markdown,\n",
    "        },\n",
    "    ],\n",
    "    response_format=UnifiedTopicsOutput,  # Specify the schema for the structured output\n",
    "    temperature=0,  # Low temperature should lead to less hallucination\n",
    "    seed=42,  # Fix the seed for reproducibility\n",
    ")\n",
    "topics_unification_results[llm_name] = completion.choices[0].message.parsed\n",
    "assert isinstance(topics_unification_results[llm_name], UnifiedTopicsOutput), (\n",
    "    \"Output does not match the expected schema.\"\n",
    ")\n",
    "topics_unification_results[llm_name]"
   ]
  },
  {
   "cell_type": "markdown",
   "id": "5492f34b",
   "metadata": {},
   "source": [
    "### GPT 4.1 mini"
   ]
  },
  {
   "cell_type": "code",
   "execution_count": null,
   "id": "b7a4addf",
   "metadata": {},
   "outputs": [],
   "source": [
    "llm_name = \"gpt-4.1-mini-2025-04-14\"\n",
    "completion = client.beta.chat.completions.parse(\n",
    "    model=llm_name,\n",
    "    messages=[\n",
    "        {\n",
    "            \"role\": \"system\",\n",
    "            \"content\": system_prompt,\n",
    "        },\n",
    "        {\n",
    "            \"role\": \"user\",\n",
    "            \"content\": input_markdown,\n",
    "        },\n",
    "    ],\n",
    "    response_format=UnifiedTopicsOutput,  # Specify the schema for the structured output\n",
    "    temperature=0,  # Low temperature should lead to less hallucination\n",
    "    seed=42,  # Fix the seed for reproducibility\n",
    ")\n",
    "topics_unification_results[llm_name] = completion.choices[0].message.parsed\n",
    "assert isinstance(topics_unification_results[llm_name], UnifiedTopicsOutput), (\n",
    "    \"Output does not match the expected schema.\"\n",
    ")\n",
    "topics_unification_results[llm_name]"
   ]
  },
  {
   "cell_type": "markdown",
   "id": "e51acf11",
   "metadata": {},
   "source": [
    "### GPT 4.1"
   ]
  },
  {
   "cell_type": "code",
   "execution_count": null,
   "id": "6c08b82c",
   "metadata": {},
   "outputs": [],
   "source": [
    "llm_name = \"gpt-4.1-2025-04-14\"\n",
    "completion = client.beta.chat.completions.parse(\n",
    "    model=llm_name,\n",
    "    messages=[\n",
    "        {\n",
    "            \"role\": \"system\",\n",
    "            \"content\": system_prompt,\n",
    "        },\n",
    "        {\n",
    "            \"role\": \"user\",\n",
    "            \"content\": input_markdown,\n",
    "        },\n",
    "    ],\n",
    "    response_format=UnifiedTopicsOutput,  # Specify the schema for the structured output\n",
    "    temperature=0,  # Low temperature should lead to less hallucination\n",
    "    seed=42,  # Fix the seed for reproducibility\n",
    ")\n",
    "topics_unification_results[llm_name] = completion.choices[0].message.parsed\n",
    "assert isinstance(topics_unification_results[llm_name], UnifiedTopicsOutput), (\n",
    "    \"Output does not match the expected schema.\"\n",
    ")\n",
    "topics_unification_results[llm_name]"
   ]
  },
  {
   "cell_type": "markdown",
   "id": "dc726645",
   "metadata": {},
   "source": [
    "### Compare"
   ]
  },
  {
   "cell_type": "code",
   "execution_count": null,
   "id": "a75bdb1a",
   "metadata": {},
   "outputs": [],
   "source": [
    "for llm_name, result in topics_unification_results.items():\n",
    "    print(f\"Results from {llm_name}:\")\n",
    "    print(result.model_dump_json(indent=2))\n",
    "    print(\"\\n\")\n",
    "    print(\"------------------------\\n\")"
   ]
  },
  {
   "cell_type": "markdown",
   "id": "c97f5026",
   "metadata": {},
   "source": [
    "### Implemented solution"
   ]
  },
  {
   "cell_type": "code",
   "execution_count": null,
   "id": "9d5ef9c8",
   "metadata": {},
   "outputs": [],
   "source": []
  }
 ],
 "metadata": {
  "kernelspec": {
   "display_name": ".venv",
   "language": "python",
   "name": "python3"
  },
  "language_info": {
   "codemirror_mode": {
    "name": "ipython",
    "version": 3
   },
   "file_extension": ".py",
   "mimetype": "text/x-python",
   "name": "python",
   "nbconvert_exporter": "python",
   "pygments_lexer": "ipython3",
   "version": "3.13.2"
  }
 },
 "nbformat": 4,
 "nbformat_minor": 5
}
