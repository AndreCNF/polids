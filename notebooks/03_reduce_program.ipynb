{
 "cells": [
  {
   "cell_type": "markdown",
   "metadata": {
    "id": "okhZv_BE6_U_"
   },
   "source": [
    "# NLP model tests\n",
    "---\n",
    "\n",
    "Here I test a few NLP models and their relevance for the project."
   ]
  },
  {
   "cell_type": "markdown",
   "metadata": {
    "id": "Ha12d0926_VE"
   },
   "source": [
    "## Setup"
   ]
  },
  {
   "cell_type": "markdown",
   "metadata": {
    "id": "ZXUpJ2dV6_VE"
   },
   "source": [
    "### Import libraries"
   ]
  },
  {
   "cell_type": "code",
   "execution_count": 213,
   "metadata": {
    "colab": {
     "base_uri": "https://localhost:8080/"
    },
    "executionInfo": {
     "elapsed": 18981,
     "status": "ok",
     "timestamp": 1643276890107,
     "user": {
      "displayName": "Francisco Santos",
      "photoUrl": "https://lh3.googleusercontent.com/a/default-user=s64",
      "userId": "06237252539080045673"
     },
     "user_tz": -60
    },
    "id": "EZy9IYIX6_VF",
    "outputId": "a06bb187-d267-4ea6-ab6e-cec84d5304eb"
   },
   "outputs": [],
   "source": [
    "import os\n",
    "import sys\n",
    "from ipywidgets import interact\n",
    "from tqdm.notebook import tqdm\n",
    "import numpy as np"
   ]
  },
  {
   "cell_type": "code",
   "execution_count": 7,
   "metadata": {
    "executionInfo": {
     "elapsed": 2,
     "status": "ok",
     "timestamp": 1643276892632,
     "user": {
      "displayName": "Francisco Santos",
      "photoUrl": "https://lh3.googleusercontent.com/a/default-user=s64",
      "userId": "06237252539080045673"
     },
     "user_tz": -60
    },
    "id": "eYb7lI4x6_VG"
   },
   "outputs": [],
   "source": [
    "os.chdir(\"..\")"
   ]
  },
  {
   "cell_type": "code",
   "execution_count": 8,
   "metadata": {
    "colab": {
     "base_uri": "https://localhost:8080/",
     "height": 356
    },
    "executionInfo": {
     "elapsed": 9,
     "status": "error",
     "timestamp": 1643276893981,
     "user": {
      "displayName": "Francisco Santos",
      "photoUrl": "https://lh3.googleusercontent.com/a/default-user=s64",
      "userId": "06237252539080045673"
     },
     "user_tz": -60
    },
    "id": "Xs4wfPz56_VH",
    "outputId": "507c9e24-37e9-40d3-95b7-72cfb63209b5"
   },
   "outputs": [],
   "source": [
    "sys.path.append(\"utils/\")\n",
    "from data_utils import DATA_DIR, load_yaml_file, load_markdown_file\n",
    "from nlp_utils import get_sentences, get_words\n",
    "DATA_DIR = os.path.join(os.getcwd(),'polids', DATA_DIR)"
   ]
  },
  {
   "cell_type": "markdown",
   "metadata": {
    "id": "ssdqtnfy6_VI"
   },
   "source": [
    "### Parameters"
   ]
  },
  {
   "cell_type": "markdown",
   "metadata": {
    "id": "8N_2Lbpl6_VK"
   },
   "source": [
    "Get the party names from the data:"
   ]
  },
  {
   "cell_type": "code",
   "execution_count": 10,
   "metadata": {
    "id": "AQ1tD7Ja6_VK"
   },
   "outputs": [],
   "source": [
    "data_name = None\n",
    "party_data = None\n",
    "party_names = None\n",
    "selected_party = None"
   ]
  },
  {
   "cell_type": "markdown",
   "metadata": {},
   "source": [
    "Tive que mudar aqui umas merdas para funcionar, sorry, sou um bocado nabo"
   ]
  },
  {
   "cell_type": "code",
   "execution_count": 11,
   "metadata": {
    "id": "4PgguLhg6_VL"
   },
   "outputs": [],
   "source": [
    "data_names = os.listdir(DATA_DIR)\n",
    "data_names = [name for name in data_names if name[:4] != \"poli\"]"
   ]
  },
  {
   "cell_type": "code",
   "execution_count": 12,
   "metadata": {
    "id": "GcNvGYXi6_VL"
   },
   "outputs": [
    {
     "data": {
      "application/vnd.jupyter.widget-view+json": {
       "model_id": "fd8b2462afa3472eaacb67637e055940",
       "version_major": 2,
       "version_minor": 0
      },
      "text/plain": [
       "interactive(children=(Dropdown(description='data', options=('portugal_2022',), value='portugal_2022'), Output(…"
      ]
     },
     "metadata": {},
     "output_type": "display_data"
    }
   ],
   "source": [
    "@interact\n",
    "def set_data(data=data_names):\n",
    "    global data_name\n",
    "    global party_data\n",
    "    global party_names\n",
    "    data_name = data\n",
    "    party_data = load_yaml_file(os.path.join(DATA_DIR, data_name, \"parties_data.yml\"))\n",
    "    party_names = list(party_data.keys())"
   ]
  },
  {
   "cell_type": "markdown",
   "metadata": {
    "id": "yj0pSzuv6_VM"
   },
   "source": [
    "Select a party:"
   ]
  },
  {
   "cell_type": "code",
   "execution_count": 128,
   "metadata": {
    "id": "kIsqylGy6_VM"
   },
   "outputs": [
    {
     "data": {
      "application/vnd.jupyter.widget-view+json": {
       "model_id": "d2c61a1fc1b64756853efbb6088822a6",
       "version_major": 2,
       "version_minor": 0
      },
      "text/plain": [
       "interactive(children=(Dropdown(description='party', options=('adn', 'be', 'cds', 'chega', 'ergue', 'liberal', …"
      ]
     },
     "metadata": {},
     "output_type": "display_data"
    }
   ],
   "source": [
    "@interact\n",
    "def select_party(party=party_names):\n",
    "    global selected_party\n",
    "    selected_party = party"
   ]
  },
  {
   "cell_type": "markdown",
   "metadata": {
    "id": "t8o2HjrB6_VM"
   },
   "source": [
    "### Load data"
   ]
  },
  {
   "cell_type": "markdown",
   "metadata": {},
   "source": [
    "Aqui nao usei a tua funçao porque se nao especificasse o encoding do .md dava erro"
   ]
  },
  {
   "cell_type": "code",
   "execution_count": 267,
   "metadata": {
    "id": "6fG1a75Y6_VN"
   },
   "outputs": [],
   "source": [
    "with open(os.path.join(DATA_DIR, data_name, \"programs\", f\"{selected_party}.md\"), \"r\", encoding=\"utf8\") as stream:\n",
    "    program_txt = stream.read()"
   ]
  },
  {
   "cell_type": "code",
   "execution_count": 268,
   "metadata": {
    "id": "VW9rS0hE6_VN"
   },
   "outputs": [
    {
     "data": {
      "text/plain": [
       "'# Programa Eleitoral Legislativas 2022 LIVRE\\n\\n---\\n\\n## Concretizar o Futuro\\n### Uma sociedade justa n'"
      ]
     },
     "execution_count": 268,
     "metadata": {},
     "output_type": "execute_result"
    }
   ],
   "source": [
    "# sample of the text\n",
    "program_txt[:100]"
   ]
  },
  {
   "cell_type": "code",
   "execution_count": 269,
   "metadata": {
    "id": "-Yi7gdxB6_VN"
   },
   "outputs": [],
   "source": [
    "sentences = get_sentences(program_txt)\n",
    "sentences = [s.replace(\"*\", \"\").replace(\"#\", \"\") for s in sentences]\n",
    "words = get_words(program_txt)"
   ]
  },
  {
   "cell_type": "code",
   "execution_count": 270,
   "metadata": {
    "id": "yZz1DHTl6_VN"
   },
   "outputs": [
    {
     "data": {
      "text/plain": [
       "[' Programa Eleitoral Legislativas 2022 LIVRE',\n",
       " ' Concretizar o Futuro',\n",
       " ' Uma sociedade justa num planeta saudável',\n",
       " 'Este é o compromisso político do LIVRE para a próxima legislatura, com a defesa da justiça social e ambiental, com a igualdade e os direitos humanos, com a liberdade e com o futuro.',\n",
       " 'A mudança de que precisamos para transformar Portugal, a Europa e o mundo começa com a mobilização em torno de um novo modelo de desenvolvimento para Portugal, assente na qualificação abrangente e avançada da população, em políticas que garantem justiça intergeracional, sustentabilidade ambiental eigualdade social.',\n",
       " 'Este projeto de futuro tem Uma visão ecologista, cosmopolita, libertária e universalista que antecipa os desafios do século XXI.',\n",
       " 'A alternativa é LIVRE — não receamos compromissos políticos, e na Assembleia da República procuraremos, sempre, acordos amplos para concretizar as mudanças necessárias para um país mais justo e sustentável, e as políticas transformadoras de que necessitamos urgentemente.',\n",
       " 'As eleições legislativas de 2022 acontecem num momento extremamente delicado para o país e num contexto exigente em que urge responder às devastadoras consequências da pandemia.',\n",
       " 'Importa proteger os mais afetados pela crise económica, agravada pela crise emergente de energia e matérias-primas, acudir a um Serviço Nacional de Saúde em pré-rutura, enfrentar a crise ecológica e traçar uma estratégia de desenvolvimento inclusivo e sustentável no médio e longo prazos para Portugal.',\n",
       " 'Esta exigência tem de ter uma resposta progressista à altura.']"
      ]
     },
     "execution_count": 270,
     "metadata": {},
     "output_type": "execute_result"
    }
   ],
   "source": [
    "sentences[:10]"
   ]
  },
  {
   "cell_type": "code",
   "execution_count": 271,
   "metadata": {},
   "outputs": [
    {
     "data": {
      "text/plain": [
       "['livre',\n",
       " 'concretizar',\n",
       " 'sociedade',\n",
       " 'justa',\n",
       " 'planeta',\n",
       " 'saudável',\n",
       " 'compromisso',\n",
       " 'legislatura',\n",
       " 'defesa',\n",
       " 'justiça']"
      ]
     },
     "execution_count": 271,
     "metadata": {},
     "output_type": "execute_result"
    }
   ],
   "source": [
    "words[:10]"
   ]
  },
  {
   "cell_type": "markdown",
   "metadata": {
    "id": "tYYbE5k46_VO"
   },
   "source": [
    "## Test Algorithm"
   ]
  },
  {
   "cell_type": "markdown",
   "metadata": {},
   "source": [
    "Attribtues values to words according to its repetitions + repetitions of similar words"
   ]
  },
  {
   "cell_type": "code",
   "execution_count": 263,
   "metadata": {
    "id": "KvAsim6t6_VU"
   },
   "outputs": [
    {
     "data": {
      "application/vnd.jupyter.widget-view+json": {
       "model_id": "cdfe0e97a83a418d95c441576484362c",
       "version_major": 2,
       "version_minor": 0
      },
      "text/plain": [
       "HBox(children=(HTML(value=''), FloatProgress(value=0.0, max=4374.0), HTML(value='')))"
      ]
     },
     "metadata": {},
     "output_type": "display_data"
    },
    {
     "name": "stdout",
     "output_type": "stream",
     "text": [
      "\n"
     ]
    }
   ],
   "source": [
    "word_dict = {}\n",
    "\n",
    "for wd in tqdm(words):\n",
    "    \n",
    "    # Transforms all words to lower_case\n",
    "    word = wd.lower()\n",
    "    \n",
    "    # Counts occurences of word in list\n",
    "    count = len([w for w in words if w==word])\n",
    "    \n",
    "    # Gets words already in dict\n",
    "    dict_words = list(word_dict.keys())\n",
    "            \n",
    "    # Sees if there are similar words. IMPROVE THIS BULLSHIT METHOD\n",
    "    sim_words = [w for w in dict_words if w[:4]==word[:4]]\n",
    "    \n",
    "    \n",
    "    # If there are similar words, updates value of all\n",
    "    if len(sim_words) > 0:\n",
    "        for ww in sim_words:\n",
    "            word_dict[ww] += count\n",
    "        word_dict[word] = word_dict[ww]            \n",
    "        \n",
    "    # If word is completely new, add to dict with value\n",
    "    else:\n",
    "        word_dict[word] = count"
   ]
  },
  {
   "cell_type": "markdown",
   "metadata": {},
   "source": [
    "Attributes values to sentences according to the popularity of the words in it"
   ]
  },
  {
   "cell_type": "code",
   "execution_count": 265,
   "metadata": {},
   "outputs": [
    {
     "name": "stdout",
     "output_type": "stream",
     "text": [
      "Correcting separated sentences...\n",
      "Valuing sentences...\n"
     ]
    },
    {
     "data": {
      "application/vnd.jupyter.widget-view+json": {
       "model_id": "9fddc1ebf0ad4782907fd647beb522a2",
       "version_major": 2,
       "version_minor": 0
      },
      "text/plain": [
       "HBox(children=(HTML(value=''), FloatProgress(value=0.0, max=485.0), HTML(value='')))"
      ]
     },
     "metadata": {},
     "output_type": "display_data"
    },
    {
     "name": "stdout",
     "output_type": "stream",
     "text": [
      "\n"
     ]
    }
   ],
   "source": [
    "## Joins sentences ending with - with the next sentences\n",
    "new_sentences = []\n",
    "print('Correcting separated sentences...')\n",
    "s = 0\n",
    "while s < len(sentences):\n",
    "    curr_s = sentences[s]\n",
    "    if sentences[s][-1] == '-':\n",
    "        while sentences[s][-1] == '-':\n",
    "            s += 1\n",
    "            curr_s = curr_s[:-1] + sentences[s]\n",
    "    else:\n",
    "        s += 1\n",
    "    new_sentences.append(curr_s)\n",
    "\n",
    "sentence_vals = np.zeros(len(new_sentences))\n",
    "\n",
    "# Minimum number of words (with more than 2 letters) necessary for a sentence to be scored\n",
    "min_words = 5\n",
    "\n",
    "print('Valuing sentences...')\n",
    "for s, sentence in enumerate(tqdm(new_sentences)):\n",
    "    \n",
    "    # Gets list of all words larger than 2 letters in sentence\n",
    "    s_words = [w.lower() for w in sentence.split(' ') if len(w) >= 3]\n",
    "        \n",
    "    if len(s_words) > min_words:\n",
    "        val = 0\n",
    "        # Iterates over all words larger than 2 letters in sentence and adds to val\n",
    "        for w in s_words:\n",
    "            if w in words:\n",
    "                val += word_dict[w]\n",
    "\n",
    "        # Averages over number of words to avoid bias towards longer sentences\n",
    "        # But sentences smaller than min_words words are given a value of 0\n",
    "        sentence_vals[s] = val/len(s_words)"
   ]
  },
  {
   "cell_type": "markdown",
   "metadata": {},
   "source": [
    "Gets n_sentences most valued sentences, in order of importance"
   ]
  },
  {
   "cell_type": "code",
   "execution_count": 266,
   "metadata": {},
   "outputs": [
    {
     "name": "stdout",
     "output_type": "stream",
     "text": [
      "1. E queremos sentir em português e pensar em português o que só em português pode e deve ser sentido e pensado. \n",
      "\n",
      "2.  66 (5.14) Criar um plano de incentivo ao emprego no interior;  \n",
      "\n",
      "3. O Ergue-te é a única verdadeira alternativa nacional que visa uma autêntica renovação nacional. \n",
      "\n",
      "4.  Programa do Ergue-te para as Eleições Legislativas 2022 \n",
      "\n",
      "5.  B. | A SITUAÇÃO DEPLORÁVEL CRIADA E AGRAVADA PELO ACTUAL REGIME | \n",
      "\n",
      "6.  104 (9.03)Valorizar e incentivar a criação de sub-sistemas de saúde; \n",
      "\n",
      "7.  17 (2.06) Apoiar as empresas que se proponham a criar creches na sua área de laboração; \n",
      "\n",
      "8.  16 (2.05) Implementar um programa nacional de incentivo à natalidade, com a criação de uma rede nacional de creches e infantários com mensalidades adequadas a cada família; \n",
      "\n",
      "9. Tudo isto implica um gigantesco custo social e económico a suportar pelos portugueses que trabalham. \n",
      "\n",
      "10. Assim, é possível alavancar a indústria nacional em Portugal. \n",
      "\n",
      "\n"
     ]
    }
   ],
   "source": [
    "n_sentences = 10\n",
    "idxs = np.argsort(sentence_vals)[-n_sentences:][::-1]\n",
    "\n",
    "summary_format = [f'{i+1}. '+ sentences[idx]+' \\n\\n' for i, idx in enumerate(idxs)]\n",
    "summary = ''\n",
    "for s in summary_format:\n",
    "    summary += s\n",
    "\n",
    "print(summary)"
   ]
  }
 ],
 "metadata": {
  "colab": {
   "name": "03_reduce_program_test.ipynb",
   "provenance": []
  },
  "interpreter": {
   "hash": "8cbc4793f8d0a9e0eed753a35e05a35425ed8d58e330fcef207ea6ac7aa07caf"
  },
  "kernelspec": {
   "display_name": "Python 3",
   "language": "python",
   "name": "python3"
  },
  "language_info": {
   "codemirror_mode": {
    "name": "ipython",
    "version": 3
   },
   "file_extension": ".py",
   "mimetype": "text/x-python",
   "name": "python",
   "nbconvert_exporter": "python",
   "pygments_lexer": "ipython3",
   "version": "3.8.5"
  }
 },
 "nbformat": 4,
 "nbformat_minor": 1
}
