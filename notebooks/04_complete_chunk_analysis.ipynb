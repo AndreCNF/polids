{
 "cells": [
  {
   "cell_type": "markdown",
   "id": "3c49ffa3",
   "metadata": {},
   "source": [
    "# Complete chunk analysis\n",
    "---\n",
    "This notebook is where we test a comprehensive chunk analysis, all in one go (i.e. one LLM run). While it sounds ambitious, there's a chance that a well defined prompt paired with a good enough model (reasoning LLM?) could do:\n",
    "- Policy proposal extraction;\n",
    "- Topic segmentation;\n",
    "- Sentiment analysis;\n",
    "- Hate speech detection;\n",
    "- Political compass estimation;\n",
    "\n",
    "all at the same time.\n",
    "\n",
    "If this doesn't perform well enough, we can always break it down into individual steps and run them separately. But let's give it a try first."
   ]
  },
  {
   "cell_type": "markdown",
   "id": "ba1cecbf",
   "metadata": {},
   "source": [
    "## Setup"
   ]
  },
  {
   "cell_type": "markdown",
   "id": "95e16b62",
   "metadata": {},
   "source": [
    "### Import libraries"
   ]
  },
  {
   "cell_type": "code",
   "execution_count": null,
   "id": "f5ceac14",
   "metadata": {},
   "outputs": [],
   "source": [
    "from pydantic import BaseModel, Field\n",
    "from typing import List, Literal\n",
    "from openai import OpenAI"
   ]
  },
  {
   "cell_type": "code",
   "execution_count": null,
   "id": "408cbd4c",
   "metadata": {},
   "outputs": [],
   "source": [
    "from polids.config import settings\n",
    "from polids.structured_analysis.openai import OpenAIStructuredChunkAnalyzer"
   ]
  },
  {
   "cell_type": "markdown",
   "id": "29995e87",
   "metadata": {},
   "source": [
    "### Set parameters"
   ]
  },
  {
   "cell_type": "code",
   "execution_count": null,
   "id": "25a1a2db",
   "metadata": {},
   "outputs": [],
   "source": [
    "system_prompt = \"You are an expert political text analyst with deep knowledge of political ideologies, policy frameworks, and manifesto analysis. Your task is to analyze segments from political party electoral manifestos, focusing on precision, accuracy, and strict adherence to the provided schema.\"\n",
    "\n",
    "\n",
    "def user_prompt_format(text):\n",
    "    return f\"\"\"**Analysis process**:\n",
    "1. Policy Proposals:\n",
    "- Carefully read the text to identify *concrete and specific* policy proposals.\n",
    "- A valid policy proposal MUST:\n",
    "  * Be a specific, actionable governmental commitment\n",
    "  * Contain a clear, measurable action or initiative\n",
    "  * Be concise (single short sentence)\n",
    "- Do NOT include:\n",
    "  * Vague ideological statements\n",
    "  * General party values or principles without specific actions\n",
    "  * Rhetorical flourishes or campaign slogans\n",
    "  * Background information or contextual details\n",
    "- Summarize each distinct proposal concisely, focusing *only* on the core action. Avoid including surrounding justification or filler text from the source. Aim for quality over quantity – extract only truly specific actions.\n",
    "- If the text contains NO specific policy proposals, provide an empty list.\n",
    "- Translate any non-English proposals into English.\n",
    "- Provide the proposals as a list under field name: policy_proposals.\n",
    "\n",
    "2. Sentiment:\n",
    "- Evaluate only the *emotional tone* (not content or ideology).\n",
    "- Select exactly ONE option: \"positive\" (optimistic, encouraging), \"negative\" (critical, pessimistic), or \"neutral\" (balanced, matter-of-fact).\n",
    "- Provide this value under field name: sentiment.\n",
    "\n",
    "3. Topic:\n",
    "- Identify the *single, most dominant* political topic discussed in the chunk.\n",
    "- Choose ONE specific keyword in English (avoid combining multiple topics).\n",
    "- Common topics include but are NOT limited to: \"economy\", \"healthcare\", \"education\", \"migration\", \"security\", \"environment\", \"foreign policy\", \"culture\", \"democracy\", \"justice\".\n",
    "- DO NOT use compound topics - select the most central focus only.\n",
    "- Provide the chosen keyword under field name: topic.\n",
    "\n",
    "4. Hate Speech Analysis:\n",
    "- Analyze the text for hate speech based on the provided definition (hostility/prejudice/discrimination against groups based on characteristics).\n",
    "- For field hate_speech:\n",
    "  a. Set to true ONLY if the text contains explicit hostility, encourages discrimination, or promotes prejudice against identifiable groups.\n",
    "  b. For subfield reason:\n",
    "    - If hate speech is present: Quote SPECIFIC phrases and explain how they constitute hate speech.\n",
    "    - If no hate speech: Briefly explain why the content was determined safe.\n",
    "  c. For subfield targeted_groups: List ONLY groups explicitly targeted (if any) or leave empty.\n",
    "- If hate_speech is false, targeted_groups should be empty.\n",
    "- Place values under field name: hate_speech.\n",
    "\n",
    "5. Political Compass Analysis:\n",
    "- Assess political orientation with particular attention to explicit policy indicators:\n",
    "  a. Economic:\n",
    "    - \"left\": Strong indicators include support for wealth redistribution, expanded public services, market regulation, nationalization.\n",
    "    - \"right\": Strong indicators include tax reduction, privatization, deregulation, free market emphasis, cutting government spending.\n",
    "    - \"center\": Represents a mixed approach, balancing market principles with social welfare or targeted regulation (e.g., social market economy).\n",
    "  b. Social:\n",
    "    - \"libertarian\": Emphasizes personal freedoms, minimal state intervention in private life, civil liberties expansion.\n",
    "    - \"authoritarian\": Emphasizes order, discipline, social conformity, expanded state powers over individuals.\n",
    "    - \"center\": Balanced approach to personal freedoms and societal order.\n",
    "- Provide selections under field name: political_compass with subfields economic and social.\n",
    "\n",
    "**Task**:\n",
    "Analyze the Markdown formatted text, applying the process described above.\n",
    "\n",
    "**Input text**:\n",
    "```markdown\n",
    "{text}\n",
    "```\"\"\""
   ]
  },
  {
   "cell_type": "markdown",
   "id": "e70dbd6c",
   "metadata": {},
   "source": [
    "## Load chunks to parse through\n",
    "\n",
    "We're going to start from pre-chunked list of strings, so as to avoid dependencies on previous steps of the pipeline."
   ]
  },
  {
   "cell_type": "code",
   "execution_count": null,
   "id": "462369df",
   "metadata": {},
   "outputs": [],
   "source": [
    "chunks_per_type = {\n",
    "    \"pnr_hate_speech\": \"\"\"- Recuperar a identidade ocidental e a matriz cultural cristã;\n",
    "- Repatriar imigrantes subsídio-dependentes, criminosos, ilegais e que sejam inadaptáveis em termos de cultura, costumes e comportamento;\n",
    "- Cortar os apoios e subsídios (discriminação positiva) para as minorias étnicas;\n",
    "- Travar o crescimento do Islão em Portugal e proibir a construção de novas mesquitas;\n",
    "- Anular a lei do “casamento” entre pessoas do mesmo sexo;\n",
    "- Limitar o acesso às forças armadas e demais forças de segurança só aos portugueses de raiz.\"\"\",\n",
    "    \"livre_sustainability\": \"**Criar uma taxa universal sobre o carbono**, no quadro de uma reforma fiscal ambiental, internalizando dessa forma as externalidades geradas, assegurando equidade social através de uma abordagem que resulte em neutralidade fiscal, por exemplo através da redução da tributação sobre o trabalho, complementando com a eliminação de subsídios ou ecotaxas ambientalmente prejudiciais, aplicando os princípios do poluidor-pagador e utilizador-pagador e incentivando o pagamento de serviços dos ecossistemas ou o investimento em eficiência energética ou demais medidas de caráter ambiental.\",\n",
    "    \"il_economy\": \"\"\"### SIMPLIFICAÇÃO E DESAGRAVAMENTO DO IRS COM INTRODUÇÃO DE TAXA ÚNICA DE 15%\n",
    "\n",
    "- Implementação de uma taxa única de IRS de 15%, aplicada por igual a todos os rendimentos e para todos os contribuintes\n",
    "\n",
    "- Isenção de IRS para rendimentos de trabalho até remuneração mensal de cerca de €664\n",
    "\n",
    "- Isenção adicional de 200€ mensais por filho dependente e por progenitor (400€ em caso de famílias monoparentais)\n",
    "\n",
    "- Eliminação de todas as deduções e benefícios fiscais em sede de IRS, com exceção das mencionadas no ponto anterior\n",
    "\n",
    "- Transitoriamente, um sistema de duas taxas: 15% para rendimentos até 30.000€ e 28% no remanescente\"\"\",\n",
    "    \"volt_ideology\": \"\"\"# Identidade e Visão do Volt\n",
    "\n",
    "Imagina-te numa situação onde tu e os teus concidadãos teriam de desenhar de raiz a sociedade em que viveriam. Que tipo de sociedade escolherias?\n",
    "\n",
    "O filósofo John Rawls propôs que, antes de escolher, cada um de nós colocasse um ‘véu da ignorância’. Ao colocar este véu, desconheceríamos o nosso ponto de partida ou as nossas circunstâncias na sociedade, ou seja, não saberíamos qual o nosso nível de riqueza, o nosso estatuto, a nossa orientação sexual, não saberíamos nada sobre o nosso lugar no mundo. Não possuindo estas informações, e procurando o nosso próprio bem-estar, seria certamente consensual a construção de uma sociedade em que ter uma vida digna é um direito real e universal, onde a liberdade de qualquer pessoa é apenas limitada pelo direito à liberdade do nosso próximo e onde todos têm o mesmo nível de oportunidades para prosperar e alcançar a sua própria definição de felicidade.\n",
    "\n",
    "Esta é a **visão** do Volt de uma sociedade justa, de um Portugal e de uma Europa para todos, e esta funciona como ponto de partida para a ideologia que guia a nossa ação política.\n",
    "\n",
    "Somos **progressistas** porque não nos resignamos ao estado atual das coisas, opondo-nos ao conservadorismo e procurando promover soluções inovadoras para os nossos problemas comuns e para o aperfeiçoamento da condição humana em sociedade, soluções onde prevaleçam os valores da liberdade, da igualdade de oportunidades, da solidariedade, da dignidade humana e dos direitos humanos. Além de social, o progressismo que defendemos é um que inclui o **ecologismo** porque vemos o bem-estar do planeta e dos outros seres vivos como um fim em si mesmo e como uma condição necessária para o bem-estar da sociedade. Por isto mesmo, acreditamos que a necessidade de sustentabilidade impõe limitações importantes à forma como a sociedade é conduzida e em todas as soluções que defendemos temos a preocupação de encontrar uma harmonia com o que nos rodeia e com o que nos sustenta vendo como prioridade a preservação do meio ambiente, a utilização responsável de recursos minerais e energéticos e o combate às alterações climáticas.\n",
    "\n",
    "Somos **pragmáticos** porque procuramos ser coerentes com a nossa visão e valores propondo e defendendo o que de facto funcione com base no consenso, no uso da razão e da evidência científica e nunca em dogmatismos ideológicos ou no egoísmo na procura do poder. Colocamo-nos ao centro do espetro político na forma como vemos o papel do Estado, pois vemos este como um meio e não como um fim, acreditamos que o Estado deve intervir tão pouco e tão rápido quanto possível e tanto e por quanto tempo for necessário.\n",
    "\n",
    "Somos **europeístas** porque, sendo Portugueses, sentimo-nos também Europeus. Vemos a União Europeia como parte da nossa identidade e futuro e, reconhecendo a interdependência do mundo em que vivemos, olhamos para o aprofundamento do projeto europeu e para a construção de uma federação europeia como o caminho para a resolução dos grandes desafios que enfrentamos. Queremos uma Europa unida e mais democrática que valoriza os seus cidadãos e os seus residentes, que não deixa ninguém para trás e que cria e mantém as condições necessárias para a realização do potencial único de cada um e da comunidade no seu todo. Uma Europa que se esforça continuamente para alcançar, em conjunto e de forma solidária, os mais elevados padrões de desenvolvimento humano, social, ambiental e técnico e que possa ajudar a guiar o resto do mundo através do exemplo na prossecução desses mesmos padrões, sendo um promotor chave da paz, da justiça, da prosperidade e da sustentabilidade global.\n",
    "\n",
    "Em 2017, como resposta aos movimentos nacionalistas e populistas, e em específico como resposta ao Brexit, um conjunto de jovens de várias nacionalidades criou este movimento político a que foi dado o nome de Volt. Foi escolhido este nome porque este simboliza, da mesma forma por toda a Europa, aquilo que queremos fazer, dar pelas nossas próprias mãos uma nova energia à política.\n",
    "\n",
    "O Volt é o meio pelo qual podemos ter uma voz na política e pelo qual podemos empoderar outros para também a terem, contribuindo assim para uma sociedade cada vez mais democrática e justa. Queremos fazer a política de uma forma diferente, uma política com uma liderança forte e confiante mas ao mesmo tempo partilhada de forma a evitar a concentração de poder e o culto de personalidade, uma política onde as pessoas são ouvidas e onde a forma pela qual alcançamos a mudança é começando por nós mesmos de forma a dar o exemplo aos que nos rodeiam. Acima de tudo, reconhecemos a necessidade de não deixar a política nas mãos de outros. Queremos assim assumir a responsabilidade individual pela construção de um futuro melhor para todos acreditando que com solidariedade não há nenhuma atitude, grande ou pequena, que seja insignificante pois é através da repetição de muitas destas que é construída uma solidariedade de facto na sociedade.\n",
    "\n",
    "«A Europa não se fará de uma só vez, nem de acordo com um plano único. Far-se-á através de realizações concretas que criarão, antes de mais, uma solidariedade de facto.»\n",
    "\n",
    "Robert Schuman, um dos fundadores do que é hoje a União Europeia, 1950\"\"\",\n",
    "}"
   ]
  },
  {
   "cell_type": "markdown",
   "id": "9bf1b591",
   "metadata": {},
   "source": [
    "## Test structured output analysis"
   ]
  },
  {
   "cell_type": "markdown",
   "id": "b4df7c4f",
   "metadata": {},
   "source": [
    "### Initialize the LLM client"
   ]
  },
  {
   "cell_type": "code",
   "execution_count": null,
   "id": "7cee7b5c",
   "metadata": {},
   "outputs": [],
   "source": [
    "client = OpenAI(api_key=settings.openai_api_key)"
   ]
  },
  {
   "cell_type": "markdown",
   "id": "c237c60c",
   "metadata": {},
   "source": [
    "### Define the output structure"
   ]
  },
  {
   "cell_type": "code",
   "execution_count": null,
   "id": "41492f82",
   "metadata": {},
   "outputs": [],
   "source": [
    "class HateSpeechDetection(BaseModel):\n",
    "    \"\"\"\n",
    "    Model representing the analysis of hate speech within a text.\n",
    "    \"\"\"\n",
    "\n",
    "    hate_speech: bool = Field(\n",
    "        description=(\n",
    "            \"Boolean indicating if the text contains hate speech. Hate speech refers to any public expression \"\n",
    "            \"that communicates hostility, animosity, or encourages violence, prejudice, discrimination, or \"\n",
    "            \"intimidation against individuals or groups based on identifiable characteristics \"\n",
    "            \"(e.g. race, ethnicity, national origin, religion, gender identity, sexual orientation, disability, age).\"\n",
    "        ),\n",
    "    )\n",
    "    reason: str = Field(\n",
    "        description=(\n",
    "            \"Detailed explanation justifying the classification as hate speech or not. \"\n",
    "            \"Include specific parts of the text that lead to this decision. If no hate speech is detected, explain why the content was determined safe.\"\n",
    "        ),\n",
    "    )\n",
    "    targeted_groups: List[str] = Field(\n",
    "        default_factory=list,\n",
    "        description=(\n",
    "            \"List of groups or protected characteristics that are explicitly targeted by hate speech in the text. \"\n",
    "            \"Examples include: 'race', 'religion', 'sexual orientation', 'gender identity', 'disability'. \"\n",
    "            \"If no group is targeted, this list should be empty.\"\n",
    "        ),\n",
    "    )\n",
    "\n",
    "\n",
    "class PoliticalCompass(BaseModel):\n",
    "    \"\"\"\n",
    "    Model for the political compass analysis, representing two primary dimensions:\n",
    "    - Economic: perspective on economic organization (left vs. right)\n",
    "    - Social: perspective on personal freedom and state intervention (libertarian vs. authoritarian)\n",
    "    \"\"\"\n",
    "\n",
    "    economic: Literal[\"left\", \"center\", \"right\"] = Field(\n",
    "        description=(\n",
    "            \"Economic stance on the political spectrum. 'left' suggests support for cooperative or state-driven \"\n",
    "            \"economic models, 'right' indicates a free-market approach emphasizing individual competition, and \"\n",
    "            \"'center' represents a moderate position combining elements of both views.\"\n",
    "        ),\n",
    "    )\n",
    "    social: Literal[\"libertarian\", \"center\", \"authoritarian\"] = Field(\n",
    "        description=(\n",
    "            \"Social stance on the political spectrum. 'libertarian' represents maximal personal freedom with minimal state control, \"\n",
    "            \"'authoritarian' indicates a preference for obedience to authority and strict social order, and \"\n",
    "            \"'center' denotes a balanced or moderate view.\"\n",
    "        ),\n",
    "    )\n",
    "\n",
    "\n",
    "class ManifestoChunkAnalysis(BaseModel):\n",
    "    \"\"\"\n",
    "    Model for a comprehensive analysis of a segment (chunk) of a political party's electoral manifesto.\n",
    "    Includes:\n",
    "    - Policy proposals extraction\n",
    "    - Sentiment analysis\n",
    "    - Dominant political topic identification\n",
    "    - Hate speech detection\n",
    "    - Political compass positioning\n",
    "    \"\"\"\n",
    "\n",
    "    policy_proposals: List[str] = Field(\n",
    "        description=(\n",
    "            \"A list of one or more policy proposals extracted from the manifesto chunk. Each entry should be a concise, \"\n",
    "            \"specific statement describing a proposed action to address a political issue. Proposals should be translated to English if needed.\"\n",
    "        ),\n",
    "    )\n",
    "    sentiment: Literal[\"positive\", \"negative\", \"neutral\"] = Field(\n",
    "        description=(\n",
    "            \"The overall sentiment of the manifesto chunk. Valid values include 'positive', 'negative', or 'neutral', \"\n",
    "            \"reflecting the emotional tone or attitude conveyed in the text.\"\n",
    "        ),\n",
    "    )\n",
    "    topic: str = Field(\n",
    "        description=(\n",
    "            \"The dominant political topic of the manifesto chunk. This should be captured in one or two keywords in English. \"\n",
    "            \"Examples: 'economy', 'healthcare', 'education', 'migration', 'transport', 'science', 'sustainability', \"\n",
    "            \"'welfare', 'social causes', 'ideology', 'infrastructure', 'business', 'technology', 'urban design'.\"\n",
    "        ),\n",
    "    )\n",
    "    hate_speech: HateSpeechDetection = Field(\n",
    "        description=\"Nested analysis of hate speech detection within the manifesto chunk.\",\n",
    "    )\n",
    "    political_compass: PoliticalCompass = Field(\n",
    "        description=\"Nested analysis mapping the manifesto chunk to positions on the political compass.\",\n",
    "    )"
   ]
  },
  {
   "cell_type": "markdown",
   "id": "9fd0f30a",
   "metadata": {},
   "source": [
    "### GPT 4o mini"
   ]
  },
  {
   "cell_type": "code",
   "execution_count": null,
   "id": "d2caa1a9",
   "metadata": {},
   "outputs": [],
   "source": [
    "chunk_analysis = {example_name: None for example_name in chunks_per_type.keys()}\n",
    "for example_name, example_chunk in chunks_per_type.items():\n",
    "    completion = client.beta.chat.completions.parse(\n",
    "        # Using the mini version for cheaper processing; setting a specific version for reproducibility\n",
    "        model=\"gpt-4o-mini-2024-07-18\",\n",
    "        messages=[\n",
    "            {\n",
    "                \"role\": \"system\",\n",
    "                \"content\": system_prompt,\n",
    "            },\n",
    "            {\n",
    "                \"role\": \"user\",\n",
    "                \"content\": user_prompt_format(example_chunk),\n",
    "            },\n",
    "        ],\n",
    "        response_format=ManifestoChunkAnalysis,  # Specify the schema for the structured output\n",
    "        temperature=0,  # Low temperature should lead to less hallucination\n",
    "        seed=42,  # Fix the seed for reproducibility\n",
    "    )\n",
    "    chunk_analysis[example_name] = completion.choices[0].message.parsed\n",
    "    assert isinstance(chunk_analysis[example_name], ManifestoChunkAnalysis), (\n",
    "        \"Output does not match the expected schema.\"\n",
    "    )\n",
    "chunk_analysis"
   ]
  },
  {
   "cell_type": "code",
   "execution_count": null,
   "id": "1e6c46e1",
   "metadata": {},
   "outputs": [],
   "source": [
    "chunk_analysis[\"pnr_hate_speech\"].model_dump()"
   ]
  },
  {
   "cell_type": "code",
   "execution_count": null,
   "id": "0e7e5e81",
   "metadata": {},
   "outputs": [],
   "source": [
    "chunk_analysis[\"livre_sustainability\"].model_dump()"
   ]
  },
  {
   "cell_type": "code",
   "execution_count": null,
   "id": "a1a683cc",
   "metadata": {},
   "outputs": [],
   "source": [
    "chunk_analysis[\"il_economy\"].model_dump()"
   ]
  },
  {
   "cell_type": "markdown",
   "id": "90c20b89",
   "metadata": {},
   "source": [
    "GPT 4o mini has gotten the economic stance of IL wrong, as it should be right-wing."
   ]
  },
  {
   "cell_type": "code",
   "execution_count": null,
   "id": "f60b4d27",
   "metadata": {},
   "outputs": [],
   "source": [
    "chunk_analysis[\"volt_ideology\"].model_dump()"
   ]
  },
  {
   "cell_type": "markdown",
   "id": "88bd5617",
   "metadata": {},
   "source": [
    "### GPT 4o"
   ]
  },
  {
   "cell_type": "code",
   "execution_count": null,
   "id": "6012ab89",
   "metadata": {},
   "outputs": [],
   "source": [
    "chunk_analysis = {example_name: None for example_name in chunks_per_type.keys()}\n",
    "for example_name, example_chunk in chunks_per_type.items():\n",
    "    completion = client.beta.chat.completions.parse(\n",
    "        # Using the larger GPT 4o model to ensure better output quality; setting a specific version for reproducibility\n",
    "        model=\"gpt-4o-2024-11-20\",\n",
    "        messages=[\n",
    "            {\n",
    "                \"role\": \"system\",\n",
    "                \"content\": system_prompt,\n",
    "            },\n",
    "            {\n",
    "                \"role\": \"user\",\n",
    "                \"content\": user_prompt_format(example_chunk),\n",
    "            },\n",
    "        ],\n",
    "        response_format=ManifestoChunkAnalysis,  # Specify the schema for the structured output\n",
    "        temperature=0,  # Low temperature should lead to less hallucination\n",
    "        seed=42,  # Fix the seed for reproducibility\n",
    "    )\n",
    "    chunk_analysis[example_name] = completion.choices[0].message.parsed\n",
    "    assert isinstance(chunk_analysis[example_name], ManifestoChunkAnalysis), (\n",
    "        \"Output does not match the expected schema.\"\n",
    "    )\n",
    "chunk_analysis"
   ]
  },
  {
   "cell_type": "code",
   "execution_count": null,
   "id": "de02fbb9",
   "metadata": {},
   "outputs": [],
   "source": [
    "chunk_analysis[\"pnr_hate_speech\"].model_dump()"
   ]
  },
  {
   "cell_type": "code",
   "execution_count": null,
   "id": "59f6555f",
   "metadata": {},
   "outputs": [],
   "source": [
    "chunk_analysis[\"livre_sustainability\"].model_dump()"
   ]
  },
  {
   "cell_type": "code",
   "execution_count": null,
   "id": "5006547a",
   "metadata": {},
   "outputs": [],
   "source": [
    "chunk_analysis[\"il_economy\"].model_dump()"
   ]
  },
  {
   "cell_type": "code",
   "execution_count": null,
   "id": "9ffb928e",
   "metadata": {},
   "outputs": [],
   "source": [
    "chunk_analysis[\"volt_ideology\"].model_dump()"
   ]
  },
  {
   "cell_type": "markdown",
   "id": "406bc3f4",
   "metadata": {},
   "source": [
    "GPT 4o looks better than the mini version. It also wasn't any slower than mini, just more expensive."
   ]
  },
  {
   "cell_type": "markdown",
   "id": "1765dbb1",
   "metadata": {},
   "source": [
    "### o3 mini"
   ]
  },
  {
   "cell_type": "code",
   "execution_count": null,
   "id": "94643a86",
   "metadata": {},
   "outputs": [],
   "source": [
    "chunk_analysis = {example_name: None for example_name in chunks_per_type.keys()}\n",
    "for example_name, example_chunk in chunks_per_type.items():\n",
    "    completion = client.beta.chat.completions.parse(\n",
    "        # Setting a specific version for reproducibility\n",
    "        model=\"o3-mini-2025-01-31\",\n",
    "        messages=[\n",
    "            {\n",
    "                \"role\": \"system\",\n",
    "                \"content\": system_prompt,\n",
    "            },\n",
    "            {\n",
    "                \"role\": \"user\",\n",
    "                \"content\": user_prompt_format(example_chunk),\n",
    "            },\n",
    "        ],\n",
    "        response_format=ManifestoChunkAnalysis,  # Specify the schema for the structured output\n",
    "        seed=42,  # Fix the seed for reproducibility\n",
    "    )\n",
    "    chunk_analysis[example_name] = completion.choices[0].message.parsed\n",
    "    assert isinstance(chunk_analysis[example_name], ManifestoChunkAnalysis), (\n",
    "        \"Output does not match the expected schema.\"\n",
    "    )\n",
    "chunk_analysis"
   ]
  },
  {
   "cell_type": "code",
   "execution_count": null,
   "id": "25b8afc9",
   "metadata": {},
   "outputs": [],
   "source": [
    "chunk_analysis[\"pnr_hate_speech\"].model_dump()"
   ]
  },
  {
   "cell_type": "code",
   "execution_count": null,
   "id": "eabc09b2",
   "metadata": {},
   "outputs": [],
   "source": [
    "chunk_analysis[\"livre_sustainability\"].model_dump()"
   ]
  },
  {
   "cell_type": "code",
   "execution_count": null,
   "id": "9bf0a239",
   "metadata": {},
   "outputs": [],
   "source": [
    "chunk_analysis[\"il_economy\"].model_dump()"
   ]
  },
  {
   "cell_type": "code",
   "execution_count": null,
   "id": "a743c2a4",
   "metadata": {},
   "outputs": [],
   "source": [
    "chunk_analysis[\"volt_ideology\"].model_dump()"
   ]
  },
  {
   "cell_type": "markdown",
   "id": "a003b72d",
   "metadata": {},
   "source": [
    "o3 mini takes at least twice as long as GPT 4o and it doesn't look significantly better than GPT 4o. However, it could potentially be cheaper than GPT 4o and leverage its reasoning capabilities for more complex input text."
   ]
  },
  {
   "cell_type": "markdown",
   "id": "705e4da5",
   "metadata": {},
   "source": [
    "### Implemented solution"
   ]
  },
  {
   "cell_type": "code",
   "execution_count": null,
   "id": "07bdfe38",
   "metadata": {},
   "outputs": [],
   "source": [
    "structured_analyzer = OpenAIStructuredChunkAnalyzer()\n",
    "outputs = {\n",
    "    example_name: structured_analyzer.process(example_text)\n",
    "    for example_name, example_text in chunks_per_type.items()\n",
    "}\n",
    "outputs"
   ]
  },
  {
   "cell_type": "code",
   "execution_count": null,
   "id": "84be7fa0",
   "metadata": {},
   "outputs": [],
   "source": []
  }
 ],
 "metadata": {
  "kernelspec": {
   "display_name": ".venv",
   "language": "python",
   "name": "python3"
  },
  "language_info": {
   "codemirror_mode": {
    "name": "ipython",
    "version": 3
   },
   "file_extension": ".py",
   "mimetype": "text/x-python",
   "name": "python",
   "nbconvert_exporter": "python",
   "pygments_lexer": "ipython3",
   "version": "3.13.2"
  }
 },
 "nbformat": 4,
 "nbformat_minor": 5
}
