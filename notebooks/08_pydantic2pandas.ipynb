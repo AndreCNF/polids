{
 "cells": [
  {
   "cell_type": "markdown",
   "id": "1d4b898b",
   "metadata": {},
   "source": [
    "# Testing ManifestoChunkAnalysis to Pandas DataFrame conversion\n",
    "This notebook evaluates different methods to convert a list of `ManifestoChunkAnalysis` objects into a Pandas DataFrame."
   ]
  },
  {
   "cell_type": "markdown",
   "id": "865a083e",
   "metadata": {},
   "source": [
    "## Setup\n",
    "### Import libraries"
   ]
  },
  {
   "cell_type": "code",
   "execution_count": null,
   "id": "8305ea57",
   "metadata": {},
   "outputs": [],
   "source": [
    "import random\n",
    "import pandas as pd\n",
    "from polids.structured_analysis.base import (\n",
    "    ManifestoChunkAnalysis,\n",
    "    HateSpeechDetection,\n",
    "    PoliticalCompass,\n",
    ")"
   ]
  },
  {
   "cell_type": "code",
   "execution_count": null,
   "id": "aadb5a7e",
   "metadata": {},
   "outputs": [],
   "source": [
    "from polids.utils.pandas import convert_pydantic_to_dataframe"
   ]
  },
  {
   "cell_type": "markdown",
   "id": "1ddaf1f6",
   "metadata": {},
   "source": [
    "### Define helper functions"
   ]
  },
  {
   "cell_type": "code",
   "execution_count": null,
   "id": "5b4ec41e",
   "metadata": {},
   "outputs": [],
   "source": [
    "def generate_random_manifesto_chunk() -> ManifestoChunkAnalysis:\n",
    "    \"\"\"Generate a random ManifestoChunkAnalysis object.\"\"\"\n",
    "    return ManifestoChunkAnalysis(\n",
    "        policy_proposals=[f\"Proposal {i}\" for i in range(random.randint(1, 5))],\n",
    "        sentiment=random.choice([\"positive\", \"negative\", \"neutral\"]),\n",
    "        topic=random.choice(\n",
    "            [\n",
    "                \"economy\",\n",
    "                \"healthcare\",\n",
    "                \"education\",\n",
    "                \"migration\",\n",
    "                \"transport\",\n",
    "                \"science\",\n",
    "                \"sustainability\",\n",
    "                \"welfare\",\n",
    "                \"social causes\",\n",
    "                \"ideology\",\n",
    "            ]\n",
    "        ),\n",
    "        hate_speech=HateSpeechDetection(\n",
    "            hate_speech=random.choice([True, False]),\n",
    "            reason=\"Randomly generated reason.\",\n",
    "            targeted_groups=random.sample(\n",
    "                [\"race\", \"religion\", \"gender identity\", \"disability\"],\n",
    "                k=random.randint(0, 2),\n",
    "            ),\n",
    "        ),\n",
    "        political_compass=PoliticalCompass(\n",
    "            economic=random.choice([\"left\", \"center\", \"right\"]),\n",
    "            social=random.choice([\"libertarian\", \"center\", \"authoritarian\"]),\n",
    "        ),\n",
    "    )"
   ]
  },
  {
   "cell_type": "markdown",
   "id": "4a67b724",
   "metadata": {},
   "source": [
    "## Generate data\n",
    "Create a large dataset of `ManifestoChunkAnalysis` objects for testing."
   ]
  },
  {
   "cell_type": "code",
   "execution_count": null,
   "id": "c3445f0f",
   "metadata": {},
   "outputs": [],
   "source": [
    "data = [generate_random_manifesto_chunk() for _ in range(4 * 10**5)]\n",
    "data[:5]"
   ]
  },
  {
   "cell_type": "markdown",
   "id": "20d75c60",
   "metadata": {},
   "source": [
    "## Test conversion method"
   ]
  },
  {
   "cell_type": "code",
   "execution_count": null,
   "id": "bf697ce6",
   "metadata": {},
   "outputs": [],
   "source": [
    "df = pd.DataFrame(s.model_dump() for s in data)  # 2 seconds\n",
    "df"
   ]
  },
  {
   "cell_type": "code",
   "execution_count": null,
   "id": "0cafd392",
   "metadata": {},
   "outputs": [],
   "source": [
    "new_df = df.copy()\n",
    "for col in list(df.columns):\n",
    "    if isinstance(df[col].iloc[0], dict):\n",
    "        # Normalize the column if it contains dictionaries\n",
    "        expanded_dict_df = pd.json_normalize(new_df[col])\n",
    "        # Rename the columns to avoid duplicates\n",
    "        expanded_dict_df.columns = [\n",
    "            f\"{col}_{sub_col}\" for sub_col in expanded_dict_df.columns\n",
    "        ]\n",
    "        # Concatenate the expanded DataFrame with the original DataFrame\n",
    "        # and drop the original column\n",
    "        new_df = pd.concat([new_df.drop(columns=[col]), expanded_dict_df], axis=1)\n",
    "new_df"
   ]
  },
  {
   "cell_type": "markdown",
   "id": "09e1bcdd",
   "metadata": {},
   "source": [
    "## Implemented solution"
   ]
  },
  {
   "cell_type": "code",
   "execution_count": null,
   "id": "4f22661e",
   "metadata": {},
   "outputs": [],
   "source": [
    "solution_df = convert_pydantic_to_dataframe(data)\n",
    "solution_df"
   ]
  },
  {
   "cell_type": "code",
   "execution_count": null,
   "id": "9d554bd2",
   "metadata": {},
   "outputs": [],
   "source": []
  }
 ],
 "metadata": {
  "kernelspec": {
   "display_name": ".venv",
   "language": "python",
   "name": "python3"
  },
  "language_info": {
   "codemirror_mode": {
    "name": "ipython",
    "version": 3
   },
   "file_extension": ".py",
   "mimetype": "text/x-python",
   "name": "python",
   "nbconvert_exporter": "python",
   "pygments_lexer": "ipython3",
   "version": "3.13.2"
  }
 },
 "nbformat": 4,
 "nbformat_minor": 5
}
